{
  "nbformat": 4,
  "nbformat_minor": 0,
  "metadata": {
    "language_info": {
      "codemirror_mode": {
        "name": "ipython",
        "version": 3
      },
      "file_extension": ".py",
      "mimetype": "text/x-python",
      "name": "python",
      "nbconvert_exporter": "python",
      "pygments_lexer": "ipython3",
      "version": "3.8.3"
    },
    "orig_nbformat": 4,
    "kernelspec": {
      "name": "python3",
      "display_name": "Python 3.8.3 64-bit"
    },
    "interpreter": {
      "hash": "aee8b7b246df8f9039afb4144a1f6fd8d2ca17a180786b69acc140d282b71a49"
    },
    "colab": {
      "name": "session-B-word-vectors.ipynb",
      "provenance": []
    }
  },
  "cells": [
    {
      "cell_type": "markdown",
      "metadata": {
        "id": "Ty2YWcLcvKl4"
      },
      "source": [
        "# Session 4: Word Vectors\n",
        "\n",
        "Word vectors (also known as 'word embeddings') are one of the most popular kinds of AI models. They are extremely useful in many domains. In essence, a word vector is a set of numbers that attempt to capture the meaning of a word. In typical implementations, each word is represented by a set of 200-300 numbers. In linear algebra, a one-dimensional array of numbers is known as a 'vector', hence these sets of numbers representing words' meanings are known as 'word vectors'.\n",
        "\n",
        "Using neural networks, we can expose the computer to a large amount of text, and allow it to learn an appropriate set of numbers for each word it encounters. In this notebook, we will learn about the most famous of all word vector algorithms, `word2vec`, which was first described by Tomas Mikolov and his team in 2013:\n",
        "\n",
        "* Tomas Mikolov, Ilya Sutskever, and others, ‘Distributed Representations of Words and Phrases and Their Compositionality’, in Advances in Neural Information Processing Systems 26, ed. by C. J. C. Burges and others (Curran Associates, Inc., 2013), pp. 3111–19 <http://papers.nips.cc/paper/5021-distributed-representations-of-words-and-phrases-and-their-compositionality.pdf>\n",
        "* Tomas Mikolov, Kai Chen, and others, ‘Efficient Estimation of Word Representations in Vector Space’, ArXiv:1301.3781 Cs, 2013 <http://arxiv.org/abs/1301.3781>.\n",
        "\n",
        "In fact, `word2vec` is not a single algorithm, but rather a family of similar algorithms. In this session we will consider just the most famous `word2vec` algorithm, namely the `skip-gram model` trained using `negative sampling`."
      ]
    },
    {
      "cell_type": "markdown",
      "metadata": {
        "id": "SWLKKQ0lvKl5"
      },
      "source": [
        "## Applications of Word Vectors\n",
        "\n",
        "Word vectors allow the computer to 'understand' language far more effectively. Rather than seeing each word as simply an arbitrarily different object, a computer using word vectors can analyse each word as a point in 200- or 300-dimenstional space. Words that are similar in meaning will have similar word vectors. And as we will see, the spaces between the word vectors are also significant: the words are arranged in patterns that represent their relationships to one another.\n",
        "\n",
        "Accordingly, most AI systems that process language now include a word vector layer as part of their architecure. When the system encounters some text (e.g. when you speak to Siri or Alexa), your words are converted into word vectors, *and then* the computer examines what the text says and determines how it should respond.\n",
        "\n",
        "In the Humanities, word vectors have become a popular modelling tool, because they allow researchers to perform sophisticated analysis on large corpora of text. Some examples include:\n",
        "\n",
        "* [The Women Writers Vector Toolkit](https://wwp.northeastern.edu/lab/wwvt/index.html)\n",
        "* William L. Hamilton, Jure Leskovec, and Dan Jurafsky, ‘Diachronic Word Embeddings Reveal Statistical Laws of Semantic Change’, ArXiv:1605.09096 [Cs], 2018 <http://arxiv.org/abs/1605.09096>.\n",
        "* Ryan Heuser, 'Semantic Networks' <https://ryanheuser.org/word-vectors-4/>"
      ]
    },
    {
      "cell_type": "markdown",
      "metadata": {
        "id": "o4ZWncLevKl5"
      },
      "source": [
        "## Training a `word2vec` model in Gensim\n",
        "\n",
        "It is very easy to train a `word2vec` model in Gensim, which includes Mikolov's original `word2vec` code in its codebase."
      ]
    },
    {
      "cell_type": "code",
      "metadata": {
        "id": "QgedLV80vKl6",
        "colab": {
          "base_uri": "https://localhost:8080/"
        },
        "outputId": "bc8a0cfc-5f96-4d8e-adab-06125070dad0"
      },
      "source": [
        "from gensim.models import Word2Vec # The word2vec model class\n",
        "import gensim.downloader as api # Allows us to download some free training data\n",
        "corpus = api.load('text8')\n",
        "# api.info()\n",
        "# Examine the corpus to see what is there\n",
        "api.info(\"text8\")"
      ],
      "execution_count": 1,
      "outputs": [
        {
          "output_type": "stream",
          "text": [
            "[==================================================] 100.0% 31.6/31.6MB downloaded\n"
          ],
          "name": "stdout"
        },
        {
          "output_type": "execute_result",
          "data": {
            "text/plain": [
              "{'checksum': '68799af40b6bda07dfa47a32612e5364',\n",
              " 'description': 'First 100,000,000 bytes of plain text from Wikipedia. Used for testing purposes; see wiki-english-* for proper full Wikipedia datasets.',\n",
              " 'file_name': 'text8.gz',\n",
              " 'file_size': 33182058,\n",
              " 'license': 'not found',\n",
              " 'num_records': 1701,\n",
              " 'parts': 1,\n",
              " 'read_more': ['http://mattmahoney.net/dc/textdata.html'],\n",
              " 'reader_code': 'https://github.com/RaRe-Technologies/gensim-data/releases/download/text8/__init__.py',\n",
              " 'record_format': 'list of str (tokens)'}"
            ]
          },
          "metadata": {
            "tags": []
          },
          "execution_count": 1
        }
      ]
    },
    {
      "cell_type": "code",
      "metadata": {
        "id": "hNRnUeEDzJS8"
      },
      "source": [
        "type(corpus)\n",
        "data = [d for d in corpus]"
      ],
      "execution_count": 2,
      "outputs": []
    },
    {
      "cell_type": "code",
      "metadata": {
        "id": "wyeDslt-26E2"
      },
      "source": [
        "print(data[0])\n",
        "print(len(data[0]))"
      ],
      "execution_count": null,
      "outputs": []
    },
    {
      "cell_type": "code",
      "metadata": {
        "id": "ICMI3zSC29t9"
      },
      "source": [
        "print(data[1])\n",
        "print(len(data[1]))"
      ],
      "execution_count": null,
      "outputs": []
    },
    {
      "cell_type": "code",
      "metadata": {
        "id": "LD6lsQzZ3CCQ"
      },
      "source": [
        "print(data[2])\n",
        "print(len(data[2]))"
      ],
      "execution_count": null,
      "outputs": []
    },
    {
      "cell_type": "code",
      "metadata": {
        "id": "lBYQqZyeOx6D"
      },
      "source": [
        "print(data[3])"
      ],
      "execution_count": null,
      "outputs": []
    },
    {
      "cell_type": "code",
      "metadata": {
        "colab": {
          "base_uri": "https://localhost:8080/"
        },
        "id": "JRSDdLH6O2E1",
        "outputId": "ace0227b-c426-45d6-a02b-fb26be7a6d97"
      },
      "source": [
        "len(data)"
      ],
      "execution_count": 7,
      "outputs": [
        {
          "output_type": "execute_result",
          "data": {
            "text/plain": [
              "1701"
            ]
          },
          "metadata": {
            "tags": []
          },
          "execution_count": 7
        }
      ]
    },
    {
      "cell_type": "code",
      "metadata": {
        "colab": {
          "base_uri": "https://localhost:8080/"
        },
        "id": "W0No4N-MO9tc",
        "outputId": "42b123dd-aa87-4253-9532-94ddf4f76923"
      },
      "source": [
        "len(data[3])"
      ],
      "execution_count": 8,
      "outputs": [
        {
          "output_type": "execute_result",
          "data": {
            "text/plain": [
              "10000"
            ]
          },
          "metadata": {
            "tags": []
          },
          "execution_count": 8
        }
      ]
    },
    {
      "cell_type": "code",
      "metadata": {
        "colab": {
          "base_uri": "https://localhost:8080/"
        },
        "id": "y0VODC5KakHh",
        "outputId": "2e475e40-842a-4c39-9853-f8251e25b83b"
      },
      "source": [
        "!wget https://heibox.uni-heidelberg.de/f/200b9f27eb9e417d8f2b/?dl=1"
      ],
      "execution_count": 13,
      "outputs": [
        {
          "output_type": "stream",
          "text": [
            "--2021-08-04 13:46:34--  https://heibox.uni-heidelberg.de/f/200b9f27eb9e417d8f2b/?dl=1\n",
            "Resolving heibox.uni-heidelberg.de (heibox.uni-heidelberg.de)... 129.206.7.113\n",
            "Connecting to heibox.uni-heidelberg.de (heibox.uni-heidelberg.de)|129.206.7.113|:443... connected.\n",
            "HTTP request sent, awaiting response... 302 Found\n",
            "Location: https://heibox.uni-heidelberg.de/seafhttp/files/3b6cc3f1-139a-4079-aadb-1c82b0420bbc/hy8.txt [following]\n",
            "--2021-08-04 13:46:35--  https://heibox.uni-heidelberg.de/seafhttp/files/3b6cc3f1-139a-4079-aadb-1c82b0420bbc/hy8.txt\n",
            "Reusing existing connection to heibox.uni-heidelberg.de:443.\n",
            "HTTP request sent, awaiting response... 200 OK\n",
            "Length: 200000000 (191M) [text/plain]\n",
            "Saving to: ‘index.html?dl=1’\n",
            "\n",
            "index.html?dl=1     100%[===================>] 190.73M  14.9MB/s    in 12s     \n",
            "\n",
            "2021-08-04 13:46:47 (15.4 MB/s) - ‘index.html?dl=1’ saved [200000000/200000000]\n",
            "\n"
          ],
          "name": "stdout"
        }
      ]
    },
    {
      "cell_type": "code",
      "metadata": {
        "colab": {
          "base_uri": "https://localhost:8080/"
        },
        "id": "MhjKXyYEa4wr",
        "outputId": "bcc16505-2bc7-42b9-9801-7dbddf84cbfa"
      },
      "source": [
        "!head hy8.txt"
      ],
      "execution_count": 14,
      "outputs": [
        {
          "output_type": "stream",
          "text": [
            "Հայաստան\n",
            "\n",
            "Հայաստան, պաշտոնական անվանումը՝ Հայաստանի Հանրապետություն, պետություն Հարավային Կովկասում։\n",
            "\n",
            "Գտնվում է Առաջավոր Ասիայի հյուսիսային մասում՝ Հայկական լեռնաշխարհի հյուսիս-արևելքում։ Հյուսիսում սահմանակցում է Վրաստանին, արևելքում՝ Ադրբեջանին, հարավում՝ Իրանին, արևմուտքում՝ Թուրքիային։ Հարավարևելյան կողմում Արցախն է, իսկ հարավարևմտյան կողմում՝ Ադրբեջանի վերահսկողության տակ գտնվող Նախիջևանի Ինքնավար Հանրապետությունը։ Այժմյան Հայաստանի Հանրապետությունը զբաղեցնում է պատմական Հայաստանի տարածքի միայն մեկ տասներորդը։\n",
            "\n",
            "Մինչև 20-րդ դարի սկիզբը «Հայաստան» անվանումը վերաբերում էր ողջ Հայկական լեռնաշխարհին, որտեղ կազմավորվել և իր պատմական ուղին է անցել հայ ժողովուրդը։ Հայ ժողովրդի պատմության սկիզբն ընդունված է համարել մ.թ.ա. 2492 թվականը, երբ հայ ժողովրդի անվանադիր նախահայրը՝ Հայկ նահապետը, Հայոց ձորում հաղթում է Ասորեստանի թագավոր Բելին և անկախություն նվաճում։\n",
            "\n",
            "Ժամանակակից Հայաստանը զբաղեցնում է 29 743 կմ տարածք (138-րդն աշխարհում) և ունի բնակչություն (136-րդն աշխարհում)։ Մայրաքաղաքը Երևանն է, պետական լեզուն՝ հայերենը, բնակչության 98,7 տոկոսը դավանում է քրիստոնեություն։ Հայաստանյայց Առաքելական Սուրբ Եկեղեցին ժամանակակից Հայաստանի հիմնական կրոնական հաստատությունն է։\n",
            "\n"
          ],
          "name": "stdout"
        }
      ]
    },
    {
      "cell_type": "code",
      "metadata": {
        "id": "PqGRmgbEbGYI"
      },
      "source": [
        "!mv hy8.txt test_data/"
      ],
      "execution_count": 15,
      "outputs": []
    },
    {
      "cell_type": "code",
      "metadata": {
        "id": "JZmYVqvGbUYN"
      },
      "source": [
        "!mv uk8.txt test_data/"
      ],
      "execution_count": 16,
      "outputs": []
    },
    {
      "cell_type": "code",
      "metadata": {
        "colab": {
          "base_uri": "https://localhost:8080/"
        },
        "id": "JGe_xgOrcQvR",
        "outputId": "cf387d77-bbe8-4c78-d0fa-5bd6e6107d98"
      },
      "source": [
        "!head test_data/uk8.txt"
      ],
      "execution_count": 18,
      "outputs": [
        {
          "output_type": "stream",
          "text": [
            "Головна сторінка\n",
            "\n",
            "Географія\n",
            "\n",
            "Геогра́фія, або земле́пис (від грец\". γεωγραφία —\" опис Землі, походить від двох еллінських слів: \"γεια —\" Земля і \"γραφειν —\" писати, описувати) — наука, що вивчає географічну оболонку Землі (епігеосферу), її просторову природну і соціально-економічну різноманітність, а також зв'язки між природним середовищем і діяльністю людини. В сучасному розумінні поняття \"географія\" заміщено поняттям \"географічні науки\".\n",
            "\n",
            "Об'єкт вивчення географії — закони і закономірності розміщення і взаємодії компонентів географічного середовища і поєднань на різних рівнях.\n",
            "\n",
            "Географія — одна з найдавніших наук, її основи закладені в еллінську епоху. Першою людиною, що використала слово «географія», був Ератосфен (276—194 до н. е.). Узагальнив досвід видатний географ Клавдій Птолемей в 1 столітті н. е. Розквіт класичної західної географічної традиції відбувся в епоху Відродження, яка відзначилась переосмисленням досягнень епохи пізнього еллінізму і значними досягненнями в картографії, які прийнято пов'язувати з ім'ям Герарда Меркатора. Основи сучасної академічної географії в 1-й половині XIX століття заклали Олександр Гумбольдт і Карл Ріттер.\n",
            "\n"
          ],
          "name": "stdout"
        }
      ]
    },
    {
      "cell_type": "code",
      "metadata": {
        "id": "OvE1hSMgYVtS"
      },
      "source": [
        "from gensim.test.utils import datapath\n",
        "from gensim import utils\n",
        "\n",
        "class MyCorpus:\n",
        "    \"\"\"An iterator that yields sentences (lists of str).\"\"\"\n",
        "\n",
        "    def __iter__(self):\n",
        "        corpus_path = datapath('uk8.txt')\n",
        "        for line in open(corpus_path):\n",
        "            # assume there's one document per line, tokens separated by whitespace\n",
        "            yield utils.simple_preprocess(line)"
      ],
      "execution_count": 19,
      "outputs": []
    },
    {
      "cell_type": "code",
      "metadata": {
        "id": "xvVsnFU7csIH"
      },
      "source": [
        "import gensim.models\n",
        "sentences = MyCorpus()"
      ],
      "execution_count": 20,
      "outputs": []
    },
    {
      "cell_type": "code",
      "metadata": {
        "id": "8TNq4-BGkiLW"
      },
      "source": [
        "type(sentences)\n",
        "data = [d for d in sentences]"
      ],
      "execution_count": 26,
      "outputs": []
    },
    {
      "cell_type": "code",
      "metadata": {
        "colab": {
          "base_uri": "https://localhost:8080/"
        },
        "id": "K-79NQ3ckhy4",
        "outputId": "9fe55daf-b65a-4f51-9582-accba7a83b42"
      },
      "source": [
        "print(len(data))\n",
        "print(data[0])\n",
        "print(len(data[0]))"
      ],
      "execution_count": 27,
      "outputs": [
        {
          "output_type": "stream",
          "text": [
            "829478\n",
            "['головна', 'сторінка']\n",
            "2\n"
          ],
          "name": "stdout"
        }
      ]
    },
    {
      "cell_type": "code",
      "metadata": {
        "colab": {
          "base_uri": "https://localhost:8080/"
        },
        "id": "kewb-eu-k-NU",
        "outputId": "83168965-d536-4b62-d249-6e556f9ec21a"
      },
      "source": [
        "print(data[4])\n",
        "print(len(data[4]))"
      ],
      "execution_count": 30,
      "outputs": [
        {
          "output_type": "stream",
          "text": [
            "['геогра', 'фія', 'або', 'земле', 'пис', 'від', 'грец', 'γεωγραφία', 'опис', 'землі', 'походить', 'від', 'двох', 'еллінських', 'слів', 'γεια', 'земля', 'γραφειν', 'писати', 'описувати', 'наука', 'що', 'вивчає', 'географічну', 'оболонку', 'землі', 'епігеосферу', 'її', 'просторову', 'природну', 'соціально', 'економічну', 'різноманітність', 'також', 'зв', 'язки', 'між', 'природним', 'середовищем', 'діяльністю', 'людини', 'сучасному', 'розумінні', 'поняття', 'географія', 'заміщено', 'поняттям', 'географічні', 'науки']\n",
            "49\n"
          ],
          "name": "stdout"
        }
      ]
    },
    {
      "cell_type": "code",
      "metadata": {
        "id": "iTHPJ9R3ZZmI"
      },
      "source": [
        "vector_size = 100 # Dimensionality of the word vectors\n",
        "window = 5 # How many words either side? (5 = 5 context words either side, i.e. 10 context words in total)\n",
        "use_skip_gram = 1 # If you set this to 0, then it will create a 'continuous bag of words' model instead\n",
        "use_softmax = 0 # If you set this to 1, then hierarchical softmax will be used instead of negative sampling\n",
        "negative_samples = 5 # How many incorrect answers to generate per correct answer when negative sampling\n",
        "\n",
        "modelOwn = Word2Vec(\n",
        "    size=vector_size,\n",
        "    window=window,\n",
        "    sg=use_skip_gram,\n",
        "    hs=use_softmax,\n",
        "    negative=negative_samples\n",
        ")"
      ],
      "execution_count": 21,
      "outputs": []
    },
    {
      "cell_type": "code",
      "metadata": {
        "id": "sOfz2xBid8_X"
      },
      "source": [
        "!cp test_data/uk8.txt /usr/local/lib/python3.7/dist-packages/gensim/test/test_data/\n",
        "!cp test_data/hy8.txt /usr/local/lib/python3.7/dist-packages/gensim/test/test_data/"
      ],
      "execution_count": 23,
      "outputs": []
    },
    {
      "cell_type": "code",
      "metadata": {
        "id": "747AbqgGdeoh"
      },
      "source": [
        "modelOwn.build_vocab(sentences)"
      ],
      "execution_count": 24,
      "outputs": []
    },
    {
      "cell_type": "code",
      "metadata": {
        "colab": {
          "base_uri": "https://localhost:8080/"
        },
        "id": "splVyPa_fJhD",
        "outputId": "535b7f66-1110-42cf-b8a3-7ff5362be655"
      },
      "source": [
        "modelOwn.train(sentences=sentences, epochs=5, total_examples=modelOwn.corpus_count)"
      ],
      "execution_count": 25,
      "outputs": [
        {
          "output_type": "execute_result",
          "data": {
            "text/plain": [
              "(58288516, 64980680)"
            ]
          },
          "metadata": {
            "tags": []
          },
          "execution_count": 25
        }
      ]
    },
    {
      "cell_type": "code",
      "metadata": {
        "id": "u8kO54SclUFw"
      },
      "source": [
        "word_vectors_own = modelOwn.wv"
      ],
      "execution_count": 31,
      "outputs": []
    },
    {
      "cell_type": "code",
      "metadata": {
        "id": "9TlmX5RNlc-N"
      },
      "source": [
        "del modelOwn"
      ],
      "execution_count": 32,
      "outputs": []
    },
    {
      "cell_type": "code",
      "metadata": {
        "colab": {
          "base_uri": "https://localhost:8080/"
        },
        "id": "AsJvbb6WlfpB",
        "outputId": "2f4e96b5-6f30-4600-a08b-20e43eb5c137"
      },
      "source": [
        "# See the word vector for a particular word\n",
        "vector = word_vectors_own['світ']\n",
        "print(vector)"
      ],
      "execution_count": 33,
      "outputs": [
        {
          "output_type": "stream",
          "text": [
            "[ 0.12823595  0.08124791 -0.36056867  0.34860706  0.13330828  0.01899572\n",
            "  0.4149479  -0.11588243 -0.01383711 -0.3050592   0.46067473  0.3155849\n",
            "  0.05846487 -0.5003058   0.615146   -0.25240517  0.03057055  0.09270322\n",
            " -0.16339114  0.74831295 -0.15308055  0.11793897  0.04887029 -0.03125161\n",
            " -0.05140895 -0.32887083 -0.57040554 -0.00560758 -0.02256221  0.51903117\n",
            "  0.18098797  0.03758845 -0.0644096  -0.27672687  0.5846957   0.01647219\n",
            "  0.07631154 -0.14477365  0.7327179  -0.506024    0.08936337 -0.12386291\n",
            " -0.5298628  -0.20217417  0.14913565 -0.2936894   0.12928024 -0.01968764\n",
            "  0.10519007 -0.28092045 -0.37003693 -0.67259514  0.1454263  -0.12252644\n",
            "  0.99648744  0.4868009  -0.08626795 -0.26429576  0.50253314  0.01554391\n",
            "  0.37477812 -0.16390322  0.81371874  0.35880357 -0.27440032 -0.22531047\n",
            " -0.07283126 -0.17576222  0.7988493   0.13707095  0.37873915 -0.07304789\n",
            "  0.8929282  -0.10099652 -0.2551904  -0.3474875  -0.41465795 -0.2636965\n",
            "  0.00406388  0.48890013  0.43602693  0.11455783  0.50021416  0.4983966\n",
            " -0.10783852  0.17508149 -0.04884565  0.13629344  0.19833556 -0.10577749\n",
            " -0.7641275   0.06068083  0.30497402 -0.39237535 -0.25233868  0.05065664\n",
            " -1.0471715  -0.21558677 -0.48094466  0.21321177]\n"
          ],
          "name": "stdout"
        }
      ]
    },
    {
      "cell_type": "code",
      "metadata": {
        "colab": {
          "base_uri": "https://localhost:8080/"
        },
        "id": "A7y08DJplzzq",
        "outputId": "8e798ed2-54d1-43ba-959e-c8bfa9b70ad6"
      },
      "source": [
        "# See which words are closest to a given word in the vector space\n",
        "similar_words = word_vectors_own.most_similar('світ', topn=10)\n",
        "print('\\n'.join([str(tup) for tup in similar_words]))"
      ],
      "execution_count": 34,
      "outputs": [
        {
          "output_type": "stream",
          "text": [
            "('всесвіт', 0.6790764927864075)\n",
            "('потойбічний', 0.6629658937454224)\n",
            "('побачило', 0.6414661407470703)\n",
            "('облетіла', 0.6395013928413391)\n",
            "('побачила', 0.63763427734375)\n",
            "('снів', 0.6355032920837402)\n",
            "('сучасність', 0.6293349862098694)\n",
            "('клич', 0.6224368214607239)\n",
            "('навколишній', 0.6217865943908691)\n",
            "('вигаданий', 0.6203899383544922)\n"
          ],
          "name": "stdout"
        }
      ]
    },
    {
      "cell_type": "code",
      "metadata": {
        "colab": {
          "base_uri": "https://localhost:8080/"
        },
        "id": "6W_uyfammBQ6",
        "outputId": "8d9d0581-26fa-4d06-ce10-45749fe4110f"
      },
      "source": [
        "similar_words = word_vectors_own.most_similar('синій', topn=10)\n",
        "print('\\n'.join([str(tup) for tup in similar_words]))"
      ],
      "execution_count": 39,
      "outputs": [
        {
          "output_type": "stream",
          "text": [
            "('жовтий', 0.8188323974609375)\n",
            "('пурпурний', 0.8136312961578369)\n",
            "('білий', 0.7961201667785645)\n",
            "('пурпурного', 0.7899792790412903)\n",
            "('фіолетовий', 0.7877422571182251)\n",
            "('малиновий', 0.7832180261611938)\n",
            "('блакитний', 0.7777512073516846)\n",
            "('жовто', 0.774638295173645)\n",
            "('пурпурового', 0.7731242775917053)\n",
            "('помаранчевий', 0.7731062173843384)\n"
          ],
          "name": "stdout"
        }
      ]
    },
    {
      "cell_type": "code",
      "metadata": {
        "colab": {
          "base_uri": "https://localhost:8080/"
        },
        "id": "mZLt2BdbmT0d",
        "outputId": "74335dd9-e571-4f3a-d846-a916dada1119"
      },
      "source": [
        "similar_words = word_vectors_own.most_similar('франція', topn=10)\n",
        "print('\\n'.join([str(tup) for tup in similar_words]))"
      ],
      "execution_count": 40,
      "outputs": [
        {
          "output_type": "stream",
          "text": [
            "('німеччина', 0.9019244313240051)\n",
            "('британія', 0.8679986000061035)\n",
            "('італія', 0.8628869652748108)\n",
            "('англія', 0.8537166118621826)\n",
            "('іспанія', 0.8530200123786926)\n",
            "('данія', 0.8457023501396179)\n",
            "('бельгія', 0.8412025570869446)\n",
            "('австрія', 0.8378618955612183)\n",
            "('нідерланди', 0.8359694480895996)\n",
            "('швейцарія', 0.8302408456802368)\n"
          ],
          "name": "stdout"
        }
      ]
    },
    {
      "cell_type": "code",
      "metadata": {
        "colab": {
          "base_uri": "https://localhost:8080/"
        },
        "id": "KRs8TMu_mc3G",
        "outputId": "2596811a-edcb-457b-dc73-0a036d59969e"
      },
      "source": [
        "analogous_words = word_vectors_own.most_similar(negative=['король'], positive=['королева','чоловік'])\n",
        "print('\\n'.join([str(tup) for tup in analogous_words]))"
      ],
      "execution_count": 41,
      "outputs": [
        {
          "output_type": "stream",
          "text": [
            "('забрала', 0.6499427556991577)\n",
            "('дружина', 0.6343517303466797)\n",
            "('медсестрою', 0.6332724690437317)\n",
            "('ятеро', 0.6273126602172852)\n",
            "('молодша', 0.600806713104248)\n",
            "('мешканка', 0.6000707745552063)\n",
            "('жінка', 0.5995628833770752)\n",
            "('четверо', 0.5935975313186646)\n",
            "('сироти', 0.5840782523155212)\n",
            "('майбутня', 0.5809659361839294)\n"
          ],
          "name": "stdout"
        }
      ]
    },
    {
      "cell_type": "code",
      "metadata": {
        "colab": {
          "base_uri": "https://localhost:8080/"
        },
        "id": "yTk9lSIVm-SW",
        "outputId": "c72c3f8d-c2f2-47db-9cff-ca13c26b7e74"
      },
      "source": [
        "analogous_words = word_vectors_own.most_similar(negative=['чоловік'], positive=['король','жінка'])\n",
        "print('\\n'.join([str(tup) for tup in analogous_words]))"
      ],
      "execution_count": 42,
      "outputs": [
        {
          "output_type": "stream",
          "text": [
            "('королева', 0.6315062046051025)\n",
            "('божевільний', 0.5870239734649658)\n",
            "('божою', 0.5820592641830444)\n",
            "('сором', 0.5778666734695435)\n",
            "('єлизавета', 0.5718879699707031)\n",
            "('наваррський', 0.5709782838821411)\n",
            "('жуан', 0.5700633525848389)\n",
            "('болейн', 0.5652177929878235)\n",
            "('ласкою', 0.564957857131958)\n",
            "('мудра', 0.5648849010467529)\n"
          ],
          "name": "stdout"
        }
      ]
    },
    {
      "cell_type": "code",
      "metadata": {
        "id": "cVSxXPOpwBY7",
        "outputId": "df3203e3-4f19-4967-9cf2-b949a24d16e5",
        "colab": {
          "base_uri": "https://localhost:8080/"
        }
      },
      "source": [
        "analogous_words = word_vectors_own.most_similar(negative=['брюссель'], positive=['бельгія','амстердам'])\n",
        "print('\\n'.join([str(tup) for tup in analogous_words]))"
      ],
      "execution_count": 78,
      "outputs": [
        {
          "output_type": "stream",
          "text": [
            "('голландія', 0.817851722240448)\n",
            "('венесуела', 0.7935336232185364)\n",
            "('івуар', 0.7927036285400391)\n",
            "('домініканська', 0.7889447212219238)\n",
            "('таїланд', 0.7770744562149048)\n",
            "('мексика', 0.7757039070129395)\n",
            "('ямайка', 0.7750661373138428)\n",
            "('чехія', 0.7734285593032837)\n",
            "('бенілюксу', 0.7705022096633911)\n",
            "('бенілюкс', 0.7699941396713257)\n"
          ],
          "name": "stdout"
        }
      ]
    },
    {
      "cell_type": "code",
      "metadata": {
        "colab": {
          "base_uri": "https://localhost:8080/"
        },
        "id": "1oTb3W6zot0s",
        "outputId": "32ed07ad-a19a-41f8-f6db-6acae147a46a"
      },
      "source": [
        "analogous_words = word_vectors_own.most_similar(positive=['вал'])\n",
        "print('\\n'.join([str(tup) for tup in analogous_words]))"
      ],
      "execution_count": 52,
      "outputs": [
        {
          "output_type": "stream",
          "text": [
            "('валу', 0.7969837188720703)\n",
            "('дитинець', 0.7649211883544922)\n",
            "('насип', 0.7570470571517944)\n",
            "('викопаний', 0.7562958002090454)\n",
            "('супою', 0.7543841600418091)\n",
            "('валами', 0.7524445056915283)\n",
            "('прокладений', 0.7498852014541626)\n",
            "('укріплений', 0.7483800649642944)\n",
            "('валом', 0.7465122938156128)\n",
            "('насипаний', 0.7409508228302002)\n"
          ],
          "name": "stdout"
        }
      ]
    },
    {
      "cell_type": "code",
      "metadata": {
        "colab": {
          "base_uri": "https://localhost:8080/"
        },
        "id": "xtC3fAdmnQt7",
        "outputId": "3f38711d-dfe6-4784-dcb6-6866146b516c"
      },
      "source": [
        "analogous_words = word_vectors_own.most_similar(positive=['вал','машина'])\n",
        "print('\\n'.join([str(tup) for tup in analogous_words]))"
      ],
      "execution_count": 50,
      "outputs": [
        {
          "output_type": "stream",
          "text": [
            "('модернізована', 0.7499001622200012)\n",
            "('гусеничний', 0.7411630749702454)\n",
            "('ракета', 0.7382329702377319)\n",
            "('стріляла', 0.7352256774902344)\n",
            "('конструкція', 0.7351371049880981)\n",
            "('шлюз', 0.7344422340393066)\n",
            "('гауч', 0.7343229055404663)\n",
            "('танк', 0.7321542501449585)\n",
            "('гвинт', 0.730291485786438)\n",
            "('тонний', 0.7272360920906067)\n"
          ],
          "name": "stdout"
        }
      ]
    },
    {
      "cell_type": "code",
      "metadata": {
        "colab": {
          "base_uri": "https://localhost:8080/"
        },
        "id": "POfHiYXJodiZ",
        "outputId": "0bfe035c-cc23-4ce8-b81b-c7e4d8386df8"
      },
      "source": [
        "analogous_words = word_vectors_own.most_similar(positive=['вал','укріплення'])\n",
        "print('\\n'.join([str(tup) for tup in analogous_words]))"
      ],
      "execution_count": 51,
      "outputs": [
        {
          "output_type": "stream",
          "text": [
            "('укріплений', 0.821014404296875)\n",
            "('вали', 0.8083927035331726)\n",
            "('валом', 0.8075416684150696)\n",
            "('частоколом', 0.8072574734687805)\n",
            "('валами', 0.8018167018890381)\n",
            "('дитинець', 0.7984623908996582)\n",
            "('ровами', 0.7941509485244751)\n",
            "('ровом', 0.7870716452598572)\n",
            "('земляними', 0.7831237316131592)\n",
            "('валів', 0.7795818448066711)\n"
          ],
          "name": "stdout"
        }
      ]
    },
    {
      "cell_type": "code",
      "metadata": {
        "colab": {
          "base_uri": "https://localhost:8080/"
        },
        "id": "3Wk_XTJ2pmcj",
        "outputId": "e0cb1e40-ef1a-4d48-fa7a-b7b3c238e451"
      },
      "source": [
        "analogous_words = word_vectors_own.most_similar(positive=['лава'])\n",
        "print('\\n'.join([str(tup) for tup in analogous_words]))"
      ],
      "execution_count": 56,
      "outputs": [
        {
          "output_type": "stream",
          "text": [
            "('крижана', 0.8076406717300415)\n",
            "('просочується', 0.8063653707504272)\n",
            "('лавою', 0.8047530651092529)\n",
            "('бульбашка', 0.8010088801383972)\n",
            "('утворювалася', 0.8007625341415405)\n",
            "('виривається', 0.7984542846679688)\n",
            "('тріщина', 0.7928452491760254)\n",
            "('розсіяна', 0.7900089025497437)\n",
            "('плоска', 0.7885591983795166)\n",
            "('тепліша', 0.7874233722686768)\n"
          ],
          "name": "stdout"
        }
      ]
    },
    {
      "cell_type": "code",
      "metadata": {
        "colab": {
          "base_uri": "https://localhost:8080/"
        },
        "id": "RCzufaxMpFLQ",
        "outputId": "38e86cfe-8d84-4357-dfeb-61abdc6e4759"
      },
      "source": [
        "analogous_words = word_vectors_own.most_similar(positive=['лава', 'військо'])\n",
        "print('\\n'.join([str(tup) for tup in analogous_words]))"
      ],
      "execution_count": 55,
      "outputs": [
        {
          "output_type": "stream",
          "text": [
            "('прорвала', 0.8070899248123169)\n",
            "('переправилося', 0.8014576435089111)\n",
            "('ущент', 0.7958520650863647)\n",
            "('обстрілювала', 0.78801429271698)\n",
            "('залита', 0.7835912704467773)\n",
            "('чигирином', 0.7823184728622437)\n",
            "('чортомлика', 0.7764988541603088)\n",
            "('прикривала', 0.7764910459518433)\n",
            "('привал', 0.7744448781013489)\n",
            "('болотистою', 0.7739661931991577)\n"
          ],
          "name": "stdout"
        }
      ]
    },
    {
      "cell_type": "code",
      "metadata": {
        "colab": {
          "base_uri": "https://localhost:8080/"
        },
        "id": "bE38R_mppqGW",
        "outputId": "44e9a2ef-fb12-4b07-df1b-04704a57ff49"
      },
      "source": [
        "analogous_words = word_vectors_own.most_similar(positive=['лава', 'вулканічна'])\n",
        "print('\\n'.join([str(tup) for tup in analogous_words]))"
      ],
      "execution_count": 57,
      "outputs": [
        {
          "output_type": "stream",
          "text": [
            "('тепліша', 0.9021542072296143)\n",
            "('субтропічна', 0.8943411707878113)\n",
            "('океанська', 0.8860609531402588)\n",
            "('океанічна', 0.883536696434021)\n",
            "('солонувата', 0.8834155201911926)\n",
            "('акумулятивна', 0.8832381367683411)\n",
            "('занурена', 0.8823111653327942)\n",
            "('крижана', 0.8727697134017944)\n",
            "('бульбашка', 0.872299075126648)\n",
            "('тріщина', 0.8697704076766968)\n"
          ],
          "name": "stdout"
        }
      ]
    },
    {
      "cell_type": "code",
      "metadata": {
        "colab": {
          "base_uri": "https://localhost:8080/"
        },
        "id": "bvKsz6drp3Df",
        "outputId": "abd579b0-ff40-4dff-b612-a821602b1e35"
      },
      "source": [
        "analogous_words = word_vectors_own.most_similar(positive=['загін'])\n",
        "print('\\n'.join([str(tup) for tup in analogous_words]))"
      ],
      "execution_count": 62,
      "outputs": [
        {
          "output_type": "stream",
          "text": [
            "('партизанський', 0.8227341175079346)\n",
            "('каральний', 0.7922848463058472)\n",
            "('тисячний', 0.7865204215049744)\n",
            "('загону', 0.7820164561271667)\n",
            "('кавалерійський', 0.7809604406356812)\n",
            "('батальйон', 0.7790646553039551)\n",
            "('загоном', 0.7776095867156982)\n",
            "('артилерійський', 0.7580552101135254)\n",
            "('драгунів', 0.7577654123306274)\n",
            "('піший', 0.7555760145187378)\n"
          ],
          "name": "stdout"
        }
      ]
    },
    {
      "cell_type": "code",
      "metadata": {
        "colab": {
          "base_uri": "https://localhost:8080/"
        },
        "id": "CqGP0IzdtnX0",
        "outputId": "16e9665c-0445-496c-8d72-837ccb83210b"
      },
      "source": [
        "analogous_words = word_vectors_own.most_similar(positive=['протест'])\n",
        "print('\\n'.join([str(tup) for tup in analogous_words]))"
      ],
      "execution_count": 67,
      "outputs": [
        {
          "output_type": "stream",
          "text": [
            "('протести', 0.7704061269760132)\n",
            "('рішучий', 0.7662365436553955)\n",
            "('протестував', 0.7652322053909302)\n",
            "('спротив', 0.7493687868118286)\n",
            "('осуд', 0.7436501383781433)\n",
            "('заклик', 0.7416808605194092)\n",
            "('протестом', 0.7394506931304932)\n",
            "('безпідставні', 0.7312350273132324)\n",
            "('москвофільство', 0.7276980876922607)\n",
            "('парламентарів', 0.7273317575454712)\n"
          ],
          "name": "stdout"
        }
      ]
    },
    {
      "cell_type": "markdown",
      "metadata": {
        "id": "_eEjBCxovKl6"
      },
      "source": [
        "### Step 1: Set hyperparameters and instantiate model"
      ]
    },
    {
      "cell_type": "code",
      "metadata": {
        "id": "K9MC27DDvKl6"
      },
      "source": [
        "vector_size = 100 # Dimensionality of the word vectors\n",
        "window = 5 # How many words either side? (5 = 5 context words either side, i.e. 10 context words in total)\n",
        "use_skip_gram = 1 # If you set this to 0, then it will create a 'continuous bag of words' model instead\n",
        "use_softmax = 0 # If you set this to 1, then hierarchical softmax will be used instead of negative sampling\n",
        "negative_samples = 5 # How many incorrect answers to generate per correct answer when negative sampling\n",
        "\n",
        "model = Word2Vec(\n",
        "    size=vector_size,\n",
        "    window=window,\n",
        "    sg=use_skip_gram,\n",
        "    hs=use_softmax,\n",
        "    negative=negative_samples\n",
        ")"
      ],
      "execution_count": null,
      "outputs": []
    },
    {
      "cell_type": "markdown",
      "metadata": {
        "id": "ofhbkdEjvKl7"
      },
      "source": [
        "### Step 2: Fit model to corpus"
      ]
    },
    {
      "cell_type": "code",
      "metadata": {
        "id": "cEieLoWlvKl7"
      },
      "source": [
        "# build a model\n",
        "model.build_vocab(corpus)"
      ],
      "execution_count": null,
      "outputs": []
    },
    {
      "cell_type": "code",
      "metadata": {
        "id": "8e_ijem9vKl7"
      },
      "source": [
        "# Train the model on the corpus\n",
        "model.train(sentences=corpus, epochs=5, total_examples=model.corpus_count)"
      ],
      "execution_count": null,
      "outputs": []
    },
    {
      "cell_type": "markdown",
      "metadata": {
        "id": "ThYRouIevKl8"
      },
      "source": [
        "### Step 3: Extract word vectors from model\n",
        "\n",
        "The fully trained model includes all of the weights used to predict the context words for each input word. If you are not planning on training the model further, these weights can be discarded, and you can just keep the weights for the word vectors."
      ]
    },
    {
      "cell_type": "code",
      "metadata": {
        "id": "4V0LfNx_vKl8"
      },
      "source": [
        "word_vectors = model.wv\n",
        "del model # Delete the whole model to free up the computer's RAM"
      ],
      "execution_count": null,
      "outputs": []
    },
    {
      "cell_type": "markdown",
      "metadata": {
        "id": "zSkZD22AvKl8"
      },
      "source": [
        "### Step 4: Have a play with the model\n",
        "\n",
        "There are several ways you can use word vectors. One of the most famous is to use them to compute analogies. The formula is:\n",
        "\n",
        "<center><em>x</em> is to <em>small</em> as <em>biggest</em> is to <em>big</em></center>\n",
        "\n",
        "$$x - vector('small') = vector('biggest') - vector('big')$$\n",
        "\n",
        "$$\\therefore x = vector('small') + vector('biggest') - vector('big')$$"
      ]
    },
    {
      "cell_type": "code",
      "metadata": {
        "id": "2Pftv0DEvKl8"
      },
      "source": [
        "# See the word vector for a particular word\n",
        "vector = word_vectors['banana']\n",
        "print(vector)"
      ],
      "execution_count": null,
      "outputs": []
    },
    {
      "cell_type": "code",
      "metadata": {
        "id": "8_qUSF7ZvKl9"
      },
      "source": [
        "# See which words are closest to a given word in the vector space\n",
        "similar_words = word_vectors.most_similar('toothbrush', topn=10)\n",
        "print('\\n'.join([str(tup) for tup in similar_words]))"
      ],
      "execution_count": null,
      "outputs": []
    },
    {
      "cell_type": "code",
      "metadata": {
        "id": "0sVv80bYvKl9"
      },
      "source": [
        "# Compute analogous words\n",
        "# E.g. x is to queen as man is to king => x = v('queen') + v('man') - v('king')\n",
        "analogous_words = word_vectors.most_similar(negative=['king'], positive=['queen','man'])\n",
        "print('\\n'.join([str(tup) for tup in analogous_words]))"
      ],
      "execution_count": null,
      "outputs": []
    },
    {
      "cell_type": "markdown",
      "metadata": {
        "id": "22fSc-iyvKl9"
      },
      "source": [
        "## Using pre-trained models in Gensim\n",
        "\n",
        "In many applications, you will simply want access to pre-trained word vectors (e.g. for plugging in to another model you are training). If you don't need the vectors to be tailored closely to your particular corpus, then you might like to use some pretrained models.\n",
        "\n",
        "`word2vec` is not the only word embedding family of algorithms. Another, arguably even more powerful algorithm is the `FastText` algorithm, which Mikolov developed after moving to Facebook:\n",
        "\n",
        "* Piotr Bojanowski and others, ‘Enriching Word Vectors with Subword Information’, ArXiv:1607.04606, 2017 <http://arxiv.org/abs/1607.04606>.\n",
        "\n",
        "Instead of computing word vectors for each word, FastText splits each word into its constituent chunks. For example, 'cat' would be split into 'c', 'a', 't', 'ca', 'at' and 'cat', and 'burp' would be split into 'b', 'u', 'r', 'p', 'bu', 'ur', 'rp', 'bur', 'urp' and 'burp'. Then a vector is computer for each chunk that appears in the corpus. Each word is represented as the mean of all the chunks that make it up. FastText is able to learn very good word vectors because it can extract meaning from subword units, e.g. it can see that 'television', 'telegraph' and 'telepathy' all have 'tele' at the front, and can see that 'formality', 'criminality' and 'paucity' share subword units such as 'al' and 'ity'.\n",
        "\n",
        "You can access many pretrained models using the Gensim downloader. Using the cells below, you can try out some of the different models available through Gensim. Along with `word2vec` and `FastText`, Gensim also supports `Glove` and `Doc2Vec` models.\n",
        "\n",
        "**NB:** These trained models are very large, and will take a while to download. You may wish to download this notebook and execute the cells below on your own machine, in case Google kicks you out of the Colab environment."
      ]
    },
    {
      "cell_type": "code",
      "metadata": {
        "id": "rldVE5pmvKl-"
      },
      "source": [
        "# See what models are on offer\n",
        "print(list(api.info()['models'].keys()))"
      ],
      "execution_count": null,
      "outputs": []
    },
    {
      "cell_type": "code",
      "metadata": {
        "id": "uTKwcm_7vKl-"
      },
      "source": [
        "# 300-dimensional word vectors trained on a huge dataset from Google News\n",
        "google_news_w2v = api.load('word2vec-google-news-300')\n",
        "\n",
        "# x is to Kenya as Canberra is to Australia\n",
        "google_news_w2v.similar_words(positive=['australia'],negative=['kenya','canberra'], topn=10)"
      ],
      "execution_count": null,
      "outputs": []
    },
    {
      "cell_type": "code",
      "metadata": {
        "id": "mPZl6qzEvKl-"
      },
      "source": [
        "# Facebook's own FastText vectors, trained on Wikipedia\n",
        "wikipedia_fasttext = api.load('fasttext-wiki-news-subwords-300')\n",
        "\n",
        "# x is to Wharton as London is to Dickens\n",
        "wikipedia_fasttext.similar_words(postive=['dickens'],negative=['wharton','london'], topn=10)"
      ],
      "execution_count": null,
      "outputs": []
    }
  ]
}